{
 "cells": [
  {
   "cell_type": "code",
   "execution_count": 13,
   "metadata": {},
   "outputs": [
    {
     "name": "stdout",
     "output_type": "stream",
     "text": [
      "The autoreload extension is already loaded. To reload it, use:\n",
      "  %reload_ext autoreload\n"
     ]
    }
   ],
   "source": [
    "import src.edhec_risk_kit as erk\n",
    "import pandas as pd\n",
    "import matplotlib\n",
    "%matplotlib inline\n",
    "%load_ext autoreload\n",
    "%autoreload 2\n",
    "\n",
    "#To avoid scientific notation display\n",
    "pd.options.display.float_format = '{:.5f}'.format\n",
    "\n",
    "#To reset, un-comment the following\n",
    "#pd.reset_option"
   ]
  },
  {
   "cell_type": "code",
   "execution_count": 55,
   "metadata": {},
   "outputs": [],
   "source": [
    "df = erk.read_Portfolios_Formed_on_ME_monthly_EW(data_loc = 'data/')"
   ]
  },
  {
   "cell_type": "code",
   "execution_count": 56,
   "metadata": {},
   "outputs": [
    {
     "data": {
      "text/html": [
       "<div>\n",
       "<style scoped>\n",
       "    .dataframe tbody tr th:only-of-type {\n",
       "        vertical-align: middle;\n",
       "    }\n",
       "\n",
       "    .dataframe tbody tr th {\n",
       "        vertical-align: top;\n",
       "    }\n",
       "\n",
       "    .dataframe thead th {\n",
       "        text-align: right;\n",
       "    }\n",
       "</style>\n",
       "<table border=\"1\" class=\"dataframe\">\n",
       "  <thead>\n",
       "    <tr style=\"text-align: right;\">\n",
       "      <th></th>\n",
       "      <th>&lt;= 0</th>\n",
       "      <th>Lo 30</th>\n",
       "      <th>Med 40</th>\n",
       "      <th>Hi 30</th>\n",
       "      <th>Lo 20</th>\n",
       "      <th>Qnt 2</th>\n",
       "      <th>Qnt 3</th>\n",
       "      <th>Qnt 4</th>\n",
       "      <th>Hi 20</th>\n",
       "      <th>Lo 10</th>\n",
       "      <th>Dec 2</th>\n",
       "      <th>Dec 3</th>\n",
       "      <th>Dec 4</th>\n",
       "      <th>Dec 5</th>\n",
       "      <th>Dec 6</th>\n",
       "      <th>Dec 7</th>\n",
       "      <th>Dec 8</th>\n",
       "      <th>Dec 9</th>\n",
       "      <th>Hi 10</th>\n",
       "    </tr>\n",
       "  </thead>\n",
       "  <tbody>\n",
       "    <tr>\n",
       "      <th>1926-07</th>\n",
       "      <td>nan</td>\n",
       "      <td>-0.00430</td>\n",
       "      <td>0.01520</td>\n",
       "      <td>0.02680</td>\n",
       "      <td>-0.00570</td>\n",
       "      <td>0.00590</td>\n",
       "      <td>0.01600</td>\n",
       "      <td>0.01470</td>\n",
       "      <td>0.03330</td>\n",
       "      <td>-0.01450</td>\n",
       "      <td>0.00290</td>\n",
       "      <td>-0.00150</td>\n",
       "      <td>0.01330</td>\n",
       "      <td>0.01240</td>\n",
       "      <td>0.01980</td>\n",
       "      <td>0.01550</td>\n",
       "      <td>0.01380</td>\n",
       "      <td>0.03380</td>\n",
       "      <td>0.03290</td>\n",
       "    </tr>\n",
       "    <tr>\n",
       "      <th>1926-08</th>\n",
       "      <td>nan</td>\n",
       "      <td>0.03900</td>\n",
       "      <td>0.03040</td>\n",
       "      <td>0.02090</td>\n",
       "      <td>0.03840</td>\n",
       "      <td>0.03590</td>\n",
       "      <td>0.03710</td>\n",
       "      <td>0.01610</td>\n",
       "      <td>0.02330</td>\n",
       "      <td>0.05120</td>\n",
       "      <td>0.02590</td>\n",
       "      <td>0.04030</td>\n",
       "      <td>0.03150</td>\n",
       "      <td>0.02720</td>\n",
       "      <td>0.04720</td>\n",
       "      <td>0.01600</td>\n",
       "      <td>0.01630</td>\n",
       "      <td>0.00980</td>\n",
       "      <td>0.03700</td>\n",
       "    </tr>\n",
       "    <tr>\n",
       "      <th>1926-09</th>\n",
       "      <td>nan</td>\n",
       "      <td>-0.01080</td>\n",
       "      <td>-0.00540</td>\n",
       "      <td>0.00160</td>\n",
       "      <td>-0.00480</td>\n",
       "      <td>-0.01400</td>\n",
       "      <td>0.00000</td>\n",
       "      <td>-0.00500</td>\n",
       "      <td>-0.00090</td>\n",
       "      <td>0.00930</td>\n",
       "      <td>-0.01870</td>\n",
       "      <td>-0.02270</td>\n",
       "      <td>-0.00530</td>\n",
       "      <td>0.00070</td>\n",
       "      <td>-0.00070</td>\n",
       "      <td>-0.01640</td>\n",
       "      <td>0.00640</td>\n",
       "      <td>-0.00860</td>\n",
       "      <td>0.00670</td>\n",
       "    </tr>\n",
       "    <tr>\n",
       "      <th>1926-10</th>\n",
       "      <td>nan</td>\n",
       "      <td>-0.03320</td>\n",
       "      <td>-0.03520</td>\n",
       "      <td>-0.03060</td>\n",
       "      <td>-0.03290</td>\n",
       "      <td>-0.04100</td>\n",
       "      <td>-0.02890</td>\n",
       "      <td>-0.03360</td>\n",
       "      <td>-0.02950</td>\n",
       "      <td>-0.04840</td>\n",
       "      <td>-0.01770</td>\n",
       "      <td>-0.03360</td>\n",
       "      <td>-0.04830</td>\n",
       "      <td>-0.02980</td>\n",
       "      <td>-0.02800</td>\n",
       "      <td>-0.03450</td>\n",
       "      <td>-0.03270</td>\n",
       "      <td>-0.03470</td>\n",
       "      <td>-0.02430</td>\n",
       "    </tr>\n",
       "    <tr>\n",
       "      <th>1926-11</th>\n",
       "      <td>nan</td>\n",
       "      <td>-0.00460</td>\n",
       "      <td>0.03820</td>\n",
       "      <td>0.03090</td>\n",
       "      <td>-0.00550</td>\n",
       "      <td>0.02180</td>\n",
       "      <td>0.03410</td>\n",
       "      <td>0.03390</td>\n",
       "      <td>0.03160</td>\n",
       "      <td>-0.00780</td>\n",
       "      <td>-0.00320</td>\n",
       "      <td>-0.00290</td>\n",
       "      <td>0.04650</td>\n",
       "      <td>0.03240</td>\n",
       "      <td>0.03570</td>\n",
       "      <td>0.03820</td>\n",
       "      <td>0.02950</td>\n",
       "      <td>0.03610</td>\n",
       "      <td>0.02700</td>\n",
       "    </tr>\n",
       "  </tbody>\n",
       "</table>\n",
       "</div>"
      ],
      "text/plain": [
       "         <= 0    Lo 30   Med 40    Hi 30    Lo 20    Qnt 2    Qnt 3    Qnt 4  \\\n",
       "1926-07   nan -0.00430  0.01520  0.02680 -0.00570  0.00590  0.01600  0.01470   \n",
       "1926-08   nan  0.03900  0.03040  0.02090  0.03840  0.03590  0.03710  0.01610   \n",
       "1926-09   nan -0.01080 -0.00540  0.00160 -0.00480 -0.01400  0.00000 -0.00500   \n",
       "1926-10   nan -0.03320 -0.03520 -0.03060 -0.03290 -0.04100 -0.02890 -0.03360   \n",
       "1926-11   nan -0.00460  0.03820  0.03090 -0.00550  0.02180  0.03410  0.03390   \n",
       "\n",
       "           Hi 20    Lo 10    Dec 2    Dec 3    Dec 4    Dec 5    Dec 6  \\\n",
       "1926-07  0.03330 -0.01450  0.00290 -0.00150  0.01330  0.01240  0.01980   \n",
       "1926-08  0.02330  0.05120  0.02590  0.04030  0.03150  0.02720  0.04720   \n",
       "1926-09 -0.00090  0.00930 -0.01870 -0.02270 -0.00530  0.00070 -0.00070   \n",
       "1926-10 -0.02950 -0.04840 -0.01770 -0.03360 -0.04830 -0.02980 -0.02800   \n",
       "1926-11  0.03160 -0.00780 -0.00320 -0.00290  0.04650  0.03240  0.03570   \n",
       "\n",
       "           Dec 7    Dec 8    Dec 9    Hi 10  \n",
       "1926-07  0.01550  0.01380  0.03380  0.03290  \n",
       "1926-08  0.01600  0.01630  0.00980  0.03700  \n",
       "1926-09 -0.01640  0.00640 -0.00860  0.00670  \n",
       "1926-10 -0.03450 -0.03270 -0.03470 -0.02430  \n",
       "1926-11  0.03820  0.02950  0.03610  0.02700  "
      ]
     },
     "execution_count": 56,
     "metadata": {},
     "output_type": "execute_result"
    }
   ],
   "source": [
    "df.head()"
   ]
  },
  {
   "cell_type": "code",
   "execution_count": 16,
   "metadata": {},
   "outputs": [
    {
     "data": {
      "text/html": [
       "<div>\n",
       "<style scoped>\n",
       "    .dataframe tbody tr th:only-of-type {\n",
       "        vertical-align: middle;\n",
       "    }\n",
       "\n",
       "    .dataframe tbody tr th {\n",
       "        vertical-align: top;\n",
       "    }\n",
       "\n",
       "    .dataframe thead th {\n",
       "        text-align: right;\n",
       "    }\n",
       "</style>\n",
       "<table border=\"1\" class=\"dataframe\">\n",
       "  <thead>\n",
       "    <tr style=\"text-align: right;\">\n",
       "      <th></th>\n",
       "      <th>SmallCap</th>\n",
       "      <th>LargeCap</th>\n",
       "    </tr>\n",
       "  </thead>\n",
       "  <tbody>\n",
       "    <tr>\n",
       "      <th>1926-07</th>\n",
       "      <td>-0.00430</td>\n",
       "      <td>0.02680</td>\n",
       "    </tr>\n",
       "    <tr>\n",
       "      <th>1926-08</th>\n",
       "      <td>0.03900</td>\n",
       "      <td>0.02090</td>\n",
       "    </tr>\n",
       "    <tr>\n",
       "      <th>1926-09</th>\n",
       "      <td>-0.01080</td>\n",
       "      <td>0.00160</td>\n",
       "    </tr>\n",
       "    <tr>\n",
       "      <th>1926-10</th>\n",
       "      <td>-0.03320</td>\n",
       "      <td>-0.03060</td>\n",
       "    </tr>\n",
       "    <tr>\n",
       "      <th>1926-11</th>\n",
       "      <td>-0.00460</td>\n",
       "      <td>0.03090</td>\n",
       "    </tr>\n",
       "  </tbody>\n",
       "</table>\n",
       "</div>"
      ],
      "text/plain": [
       "         SmallCap  LargeCap\n",
       "1926-07  -0.00430   0.02680\n",
       "1926-08   0.03900   0.02090\n",
       "1926-09  -0.01080   0.00160\n",
       "1926-10  -0.03320  -0.03060\n",
       "1926-11  -0.00460   0.03090"
      ]
     },
     "execution_count": 16,
     "metadata": {},
     "output_type": "execute_result"
    }
   ],
   "source": [
    "rets = df[['Lo 30', 'Hi 30']]\n",
    "rets.columns = ['SmallCap','LargeCap']\n",
    "rets.head()"
   ]
  },
  {
   "cell_type": "code",
   "execution_count": 18,
   "metadata": {},
   "outputs": [],
   "source": [
    "smallcap_df = erk.drawdown(rets['SmallCap'])\n",
    "largecap_df = erk.drawdown(rets['LargeCap'])"
   ]
  },
  {
   "cell_type": "code",
   "execution_count": 22,
   "metadata": {},
   "outputs": [
    {
     "data": {
      "text/plain": [
       "<matplotlib.axes._subplots.AxesSubplot at 0x1212e6908>"
      ]
     },
     "execution_count": 22,
     "metadata": {},
     "output_type": "execute_result"
    },
    {
     "data": {
      "image/png": "[encoded data removed]",
      "text/plain": [
       "<Figure size 432x288 with 1 Axes>"
      ]
     },
     "metadata": {
      "needs_background": "light"
     },
     "output_type": "display_data"
    }
   ],
   "source": [
    "smallcap_df[:\"1950\"][[\"Wealth_Index\", \"Previous_Peak\"]].plot()"
   ]
  },
  {
   "cell_type": "code",
   "execution_count": 24,
   "metadata": {},
   "outputs": [],
   "source": [
    "largecap_df.head()\n",
    "largecap_df.columns = ['lc'+col for col in largecap_df.columns]"
   ]
  },
  {
   "cell_type": "code",
   "execution_count": 25,
   "metadata": {},
   "outputs": [],
   "source": [
    "smallcap_df.head()\n",
    "smallcap_df.columns = ['sc'+col for col in smallcap_df.columns]"
   ]
  },
  {
   "cell_type": "code",
   "execution_count": 26,
   "metadata": {},
   "outputs": [
    {
     "data": {
      "text/html": [
       "<div>\n",
       "<style scoped>\n",
       "    .dataframe tbody tr th:only-of-type {\n",
       "        vertical-align: middle;\n",
       "    }\n",
       "\n",
       "    .dataframe tbody tr th {\n",
       "        vertical-align: top;\n",
       "    }\n",
       "\n",
       "    .dataframe thead th {\n",
       "        text-align: right;\n",
       "    }\n",
       "</style>\n",
       "<table border=\"1\" class=\"dataframe\">\n",
       "  <thead>\n",
       "    <tr style=\"text-align: right;\">\n",
       "      <th></th>\n",
       "      <th>lcReturns</th>\n",
       "      <th>lcWealth_Index</th>\n",
       "      <th>lcPrevious_Peak</th>\n",
       "      <th>lcDrawdown</th>\n",
       "    </tr>\n",
       "  </thead>\n",
       "  <tbody>\n",
       "    <tr>\n",
       "      <th>1926-07</th>\n",
       "      <td>0.02680</td>\n",
       "      <td>1026.80000</td>\n",
       "      <td>1026.80000</td>\n",
       "      <td>0.00000</td>\n",
       "    </tr>\n",
       "    <tr>\n",
       "      <th>1926-08</th>\n",
       "      <td>0.02090</td>\n",
       "      <td>1048.26012</td>\n",
       "      <td>1048.26012</td>\n",
       "      <td>0.00000</td>\n",
       "    </tr>\n",
       "    <tr>\n",
       "      <th>1926-09</th>\n",
       "      <td>0.00160</td>\n",
       "      <td>1049.93734</td>\n",
       "      <td>1049.93734</td>\n",
       "      <td>0.00000</td>\n",
       "    </tr>\n",
       "    <tr>\n",
       "      <th>1926-10</th>\n",
       "      <td>-0.03060</td>\n",
       "      <td>1017.80925</td>\n",
       "      <td>1049.93734</td>\n",
       "      <td>-0.03060</td>\n",
       "    </tr>\n",
       "    <tr>\n",
       "      <th>1926-11</th>\n",
       "      <td>0.03090</td>\n",
       "      <td>1049.25956</td>\n",
       "      <td>1049.93734</td>\n",
       "      <td>-0.00065</td>\n",
       "    </tr>\n",
       "  </tbody>\n",
       "</table>\n",
       "</div>"
      ],
      "text/plain": [
       "         lcReturns  lcWealth_Index  lcPrevious_Peak  lcDrawdown\n",
       "1926-07    0.02680      1026.80000       1026.80000     0.00000\n",
       "1926-08    0.02090      1048.26012       1048.26012     0.00000\n",
       "1926-09    0.00160      1049.93734       1049.93734     0.00000\n",
       "1926-10   -0.03060      1017.80925       1049.93734    -0.03060\n",
       "1926-11    0.03090      1049.25956       1049.93734    -0.00065"
      ]
     },
     "execution_count": 26,
     "metadata": {},
     "output_type": "execute_result"
    }
   ],
   "source": [
    "largecap_df.head()"
   ]
  },
  {
   "cell_type": "code",
   "execution_count": 27,
   "metadata": {},
   "outputs": [
    {
     "data": {
      "text/html": [
       "<div>\n",
       "<style scoped>\n",
       "    .dataframe tbody tr th:only-of-type {\n",
       "        vertical-align: middle;\n",
       "    }\n",
       "\n",
       "    .dataframe tbody tr th {\n",
       "        vertical-align: top;\n",
       "    }\n",
       "\n",
       "    .dataframe thead th {\n",
       "        text-align: right;\n",
       "    }\n",
       "</style>\n",
       "<table border=\"1\" class=\"dataframe\">\n",
       "  <thead>\n",
       "    <tr style=\"text-align: right;\">\n",
       "      <th></th>\n",
       "      <th>scReturns</th>\n",
       "      <th>scWealth_Index</th>\n",
       "      <th>scPrevious_Peak</th>\n",
       "      <th>scDrawdown</th>\n",
       "    </tr>\n",
       "  </thead>\n",
       "  <tbody>\n",
       "    <tr>\n",
       "      <th>1926-07</th>\n",
       "      <td>-0.00430</td>\n",
       "      <td>995.70000</td>\n",
       "      <td>995.70000</td>\n",
       "      <td>0.00000</td>\n",
       "    </tr>\n",
       "    <tr>\n",
       "      <th>1926-08</th>\n",
       "      <td>0.03900</td>\n",
       "      <td>1034.53230</td>\n",
       "      <td>1034.53230</td>\n",
       "      <td>0.00000</td>\n",
       "    </tr>\n",
       "    <tr>\n",
       "      <th>1926-09</th>\n",
       "      <td>-0.01080</td>\n",
       "      <td>1023.35935</td>\n",
       "      <td>1034.53230</td>\n",
       "      <td>-0.01080</td>\n",
       "    </tr>\n",
       "    <tr>\n",
       "      <th>1926-10</th>\n",
       "      <td>-0.03320</td>\n",
       "      <td>989.38382</td>\n",
       "      <td>1034.53230</td>\n",
       "      <td>-0.04364</td>\n",
       "    </tr>\n",
       "    <tr>\n",
       "      <th>1926-11</th>\n",
       "      <td>-0.00460</td>\n",
       "      <td>984.83266</td>\n",
       "      <td>1034.53230</td>\n",
       "      <td>-0.04804</td>\n",
       "    </tr>\n",
       "  </tbody>\n",
       "</table>\n",
       "</div>"
      ],
      "text/plain": [
       "         scReturns  scWealth_Index  scPrevious_Peak  scDrawdown\n",
       "1926-07   -0.00430       995.70000        995.70000     0.00000\n",
       "1926-08    0.03900      1034.53230       1034.53230     0.00000\n",
       "1926-09   -0.01080      1023.35935       1034.53230    -0.01080\n",
       "1926-10   -0.03320       989.38382       1034.53230    -0.04364\n",
       "1926-11   -0.00460       984.83266       1034.53230    -0.04804"
      ]
     },
     "execution_count": 27,
     "metadata": {},
     "output_type": "execute_result"
    }
   ],
   "source": [
    "smallcap_df.head()"
   ]
  },
  {
   "cell_type": "code",
   "execution_count": 37,
   "metadata": {},
   "outputs": [
    {
     "data": {
      "text/html": [
       "<div>\n",
       "<style scoped>\n",
       "    .dataframe tbody tr th:only-of-type {\n",
       "        vertical-align: middle;\n",
       "    }\n",
       "\n",
       "    .dataframe tbody tr th {\n",
       "        vertical-align: top;\n",
       "    }\n",
       "\n",
       "    .dataframe thead th {\n",
       "        text-align: right;\n",
       "    }\n",
       "</style>\n",
       "<table border=\"1\" class=\"dataframe\">\n",
       "  <thead>\n",
       "    <tr style=\"text-align: right;\">\n",
       "      <th></th>\n",
       "      <th>lcReturns</th>\n",
       "      <th>lcWealth_Index</th>\n",
       "      <th>lcPrevious_Peak</th>\n",
       "      <th>lcDrawdown</th>\n",
       "      <th>scReturns</th>\n",
       "      <th>scWealth_Index</th>\n",
       "      <th>scPrevious_Peak</th>\n",
       "      <th>scDrawdown</th>\n",
       "    </tr>\n",
       "  </thead>\n",
       "  <tbody>\n",
       "    <tr>\n",
       "      <th>1926-07</th>\n",
       "      <td>0.02680</td>\n",
       "      <td>1026.80000</td>\n",
       "      <td>1026.80000</td>\n",
       "      <td>0.00000</td>\n",
       "      <td>-0.00430</td>\n",
       "      <td>995.70000</td>\n",
       "      <td>995.70000</td>\n",
       "      <td>0.00000</td>\n",
       "    </tr>\n",
       "    <tr>\n",
       "      <th>1926-08</th>\n",
       "      <td>0.02090</td>\n",
       "      <td>1048.26012</td>\n",
       "      <td>1048.26012</td>\n",
       "      <td>0.00000</td>\n",
       "      <td>0.03900</td>\n",
       "      <td>1034.53230</td>\n",
       "      <td>1034.53230</td>\n",
       "      <td>0.00000</td>\n",
       "    </tr>\n",
       "    <tr>\n",
       "      <th>1926-09</th>\n",
       "      <td>0.00160</td>\n",
       "      <td>1049.93734</td>\n",
       "      <td>1049.93734</td>\n",
       "      <td>0.00000</td>\n",
       "      <td>-0.01080</td>\n",
       "      <td>1023.35935</td>\n",
       "      <td>1034.53230</td>\n",
       "      <td>-0.01080</td>\n",
       "    </tr>\n",
       "    <tr>\n",
       "      <th>1926-10</th>\n",
       "      <td>-0.03060</td>\n",
       "      <td>1017.80925</td>\n",
       "      <td>1049.93734</td>\n",
       "      <td>-0.03060</td>\n",
       "      <td>-0.03320</td>\n",
       "      <td>989.38382</td>\n",
       "      <td>1034.53230</td>\n",
       "      <td>-0.04364</td>\n",
       "    </tr>\n",
       "    <tr>\n",
       "      <th>1926-11</th>\n",
       "      <td>0.03090</td>\n",
       "      <td>1049.25956</td>\n",
       "      <td>1049.93734</td>\n",
       "      <td>-0.00065</td>\n",
       "      <td>-0.00460</td>\n",
       "      <td>984.83266</td>\n",
       "      <td>1034.53230</td>\n",
       "      <td>-0.04804</td>\n",
       "    </tr>\n",
       "  </tbody>\n",
       "</table>\n",
       "</div>"
      ],
      "text/plain": [
       "         lcReturns  lcWealth_Index  lcPrevious_Peak  lcDrawdown  scReturns  \\\n",
       "1926-07    0.02680      1026.80000       1026.80000     0.00000   -0.00430   \n",
       "1926-08    0.02090      1048.26012       1048.26012     0.00000    0.03900   \n",
       "1926-09    0.00160      1049.93734       1049.93734     0.00000   -0.01080   \n",
       "1926-10   -0.03060      1017.80925       1049.93734    -0.03060   -0.03320   \n",
       "1926-11    0.03090      1049.25956       1049.93734    -0.00065   -0.00460   \n",
       "\n",
       "         scWealth_Index  scPrevious_Peak  scDrawdown  \n",
       "1926-07       995.70000        995.70000     0.00000  \n",
       "1926-08      1034.53230       1034.53230     0.00000  \n",
       "1926-09      1023.35935       1034.53230    -0.01080  \n",
       "1926-10       989.38382       1034.53230    -0.04364  \n",
       "1926-11       984.83266       1034.53230    -0.04804  "
      ]
     },
     "execution_count": 37,
     "metadata": {},
     "output_type": "execute_result"
    }
   ],
   "source": [
    "#Join the data frames\n",
    "final_df = pd.concat([largecap_df, smallcap_df], axis=1, ignore_index=False)\n",
    "final_df.head()"
   ]
  },
  {
   "cell_type": "code",
   "execution_count": 38,
   "metadata": {},
   "outputs": [
    {
     "data": {
      "text/plain": [
       "<matplotlib.axes._subplots.AxesSubplot at 0x1205ef828>"
      ]
     },
     "execution_count": 38,
     "metadata": {},
     "output_type": "execute_result"
    },
    {
     "data": {
      "image/png": "[encoded data removed]",
      "text/plain": [
       "<Figure size 432x288 with 1 Axes>"
      ]
     },
     "metadata": {
      "needs_background": "light"
     },
     "output_type": "display_data"
    }
   ],
   "source": [
    "final_df[['lcWealth_Index','lcPrevious_Peak','scWealth_Index','scPrevious_Peak']][:\"1950\"].plot()"
   ]
  },
  {
   "cell_type": "code",
   "execution_count": 39,
   "metadata": {},
   "outputs": [],
   "source": [
    "df = pd.DataFrame({'SmallCap': [-0.0145, 0.0512, 0.0093, -0.0484, -0.0078],\n",
    "                                'LargeCap': [0.0329, 0.0370, 0.0067, -0.0243, 0.0270]})"
   ]
  },
  {
   "cell_type": "code",
   "execution_count": 40,
   "metadata": {},
   "outputs": [
    {
     "data": {
      "text/html": [
       "<div>\n",
       "<style scoped>\n",
       "    .dataframe tbody tr th:only-of-type {\n",
       "        vertical-align: middle;\n",
       "    }\n",
       "\n",
       "    .dataframe tbody tr th {\n",
       "        vertical-align: top;\n",
       "    }\n",
       "\n",
       "    .dataframe thead th {\n",
       "        text-align: right;\n",
       "    }\n",
       "</style>\n",
       "<table border=\"1\" class=\"dataframe\">\n",
       "  <thead>\n",
       "    <tr style=\"text-align: right;\">\n",
       "      <th></th>\n",
       "      <th>SmallCap</th>\n",
       "      <th>LargeCap</th>\n",
       "    </tr>\n",
       "  </thead>\n",
       "  <tbody>\n",
       "    <tr>\n",
       "      <th>0</th>\n",
       "      <td>-0.01450</td>\n",
       "      <td>0.03290</td>\n",
       "    </tr>\n",
       "    <tr>\n",
       "      <th>1</th>\n",
       "      <td>0.05120</td>\n",
       "      <td>0.03700</td>\n",
       "    </tr>\n",
       "    <tr>\n",
       "      <th>2</th>\n",
       "      <td>0.00930</td>\n",
       "      <td>0.00670</td>\n",
       "    </tr>\n",
       "    <tr>\n",
       "      <th>3</th>\n",
       "      <td>-0.04840</td>\n",
       "      <td>-0.02430</td>\n",
       "    </tr>\n",
       "    <tr>\n",
       "      <th>4</th>\n",
       "      <td>-0.00780</td>\n",
       "      <td>0.02700</td>\n",
       "    </tr>\n",
       "  </tbody>\n",
       "</table>\n",
       "</div>"
      ],
      "text/plain": [
       "   SmallCap  LargeCap\n",
       "0  -0.01450   0.03290\n",
       "1   0.05120   0.03700\n",
       "2   0.00930   0.00670\n",
       "3  -0.04840  -0.02430\n",
       "4  -0.00780   0.02700"
      ]
     },
     "execution_count": 40,
     "metadata": {},
     "output_type": "execute_result"
    }
   ],
   "source": [
    "df"
   ]
  },
  {
   "cell_type": "code",
   "execution_count": 43,
   "metadata": {},
   "outputs": [
    {
     "data": {
      "text/html": [
       "<div>\n",
       "<style scoped>\n",
       "    .dataframe tbody tr th:only-of-type {\n",
       "        vertical-align: middle;\n",
       "    }\n",
       "\n",
       "    .dataframe tbody tr th {\n",
       "        vertical-align: top;\n",
       "    }\n",
       "\n",
       "    .dataframe thead th {\n",
       "        text-align: right;\n",
       "    }\n",
       "</style>\n",
       "<table border=\"1\" class=\"dataframe\">\n",
       "  <thead>\n",
       "    <tr style=\"text-align: right;\">\n",
       "      <th></th>\n",
       "      <th>Returns</th>\n",
       "      <th>Wealth_Index</th>\n",
       "      <th>Previous_Peak</th>\n",
       "      <th>Drawdown</th>\n",
       "    </tr>\n",
       "  </thead>\n",
       "  <tbody>\n",
       "    <tr>\n",
       "      <th>0</th>\n",
       "      <td>-0.01450</td>\n",
       "      <td>985.50000</td>\n",
       "      <td>985.50000</td>\n",
       "      <td>0.00000</td>\n",
       "    </tr>\n",
       "    <tr>\n",
       "      <th>1</th>\n",
       "      <td>0.05120</td>\n",
       "      <td>1035.95760</td>\n",
       "      <td>1035.95760</td>\n",
       "      <td>0.00000</td>\n",
       "    </tr>\n",
       "    <tr>\n",
       "      <th>2</th>\n",
       "      <td>0.00930</td>\n",
       "      <td>1045.59201</td>\n",
       "      <td>1045.59201</td>\n",
       "      <td>0.00000</td>\n",
       "    </tr>\n",
       "    <tr>\n",
       "      <th>3</th>\n",
       "      <td>-0.04840</td>\n",
       "      <td>994.98535</td>\n",
       "      <td>1045.59201</td>\n",
       "      <td>-0.04840</td>\n",
       "    </tr>\n",
       "    <tr>\n",
       "      <th>4</th>\n",
       "      <td>-0.00780</td>\n",
       "      <td>987.22447</td>\n",
       "      <td>1045.59201</td>\n",
       "      <td>-0.05582</td>\n",
       "    </tr>\n",
       "  </tbody>\n",
       "</table>\n",
       "</div>"
      ],
      "text/plain": [
       "   Returns  Wealth_Index  Previous_Peak  Drawdown\n",
       "0 -0.01450     985.50000      985.50000   0.00000\n",
       "1  0.05120    1035.95760     1035.95760   0.00000\n",
       "2  0.00930    1045.59201     1045.59201   0.00000\n",
       "3 -0.04840     994.98535     1045.59201  -0.04840\n",
       "4 -0.00780     987.22447     1045.59201  -0.05582"
      ]
     },
     "execution_count": 43,
     "metadata": {},
     "output_type": "execute_result"
    }
   ],
   "source": [
    "erk.drawdown(df['SmallCap'])"
   ]
  },
  {
   "cell_type": "code",
   "execution_count": 48,
   "metadata": {},
   "outputs": [
    {
     "data": {
      "text/plain": [
       "array([ 0.        ,  0.        ,  0.        , -0.0484    , -0.05582248])"
      ]
     },
     "execution_count": 48,
     "metadata": {},
     "output_type": "execute_result"
    }
   ],
   "source": [
    "erk.drawdown(df['SmallCap'])['Drawdown'].values"
   ]
  },
  {
   "cell_type": "code",
   "execution_count": 49,
   "metadata": {},
   "outputs": [
    {
     "data": {
      "text/html": [
       "<div>\n",
       "<style scoped>\n",
       "    .dataframe tbody tr th:only-of-type {\n",
       "        vertical-align: middle;\n",
       "    }\n",
       "\n",
       "    .dataframe tbody tr th {\n",
       "        vertical-align: top;\n",
       "    }\n",
       "\n",
       "    .dataframe thead th {\n",
       "        text-align: right;\n",
       "    }\n",
       "</style>\n",
       "<table border=\"1\" class=\"dataframe\">\n",
       "  <thead>\n",
       "    <tr style=\"text-align: right;\">\n",
       "      <th></th>\n",
       "      <th>SmallCap</th>\n",
       "      <th>LargeCap</th>\n",
       "    </tr>\n",
       "  </thead>\n",
       "  <tbody>\n",
       "    <tr>\n",
       "      <th>0</th>\n",
       "      <td>-0.01450</td>\n",
       "      <td>0.03290</td>\n",
       "    </tr>\n",
       "    <tr>\n",
       "      <th>1</th>\n",
       "      <td>0.05120</td>\n",
       "      <td>0.03700</td>\n",
       "    </tr>\n",
       "    <tr>\n",
       "      <th>2</th>\n",
       "      <td>0.00930</td>\n",
       "      <td>0.00670</td>\n",
       "    </tr>\n",
       "    <tr>\n",
       "      <th>3</th>\n",
       "      <td>-0.04840</td>\n",
       "      <td>-0.02430</td>\n",
       "    </tr>\n",
       "    <tr>\n",
       "      <th>4</th>\n",
       "      <td>-0.00780</td>\n",
       "      <td>0.02700</td>\n",
       "    </tr>\n",
       "  </tbody>\n",
       "</table>\n",
       "</div>"
      ],
      "text/plain": [
       "   SmallCap  LargeCap\n",
       "0  -0.01450   0.03290\n",
       "1   0.05120   0.03700\n",
       "2   0.00930   0.00670\n",
       "3  -0.04840  -0.02430\n",
       "4  -0.00780   0.02700"
      ]
     },
     "execution_count": 49,
     "metadata": {},
     "output_type": "execute_result"
    }
   ],
   "source": [
    "df.head()"
   ]
  },
  {
   "cell_type": "code",
   "execution_count": 61,
   "metadata": {},
   "outputs": [
    {
     "data": {
      "text/plain": [
       "<= 0         nan\n",
       "Lo 30    0.09121\n",
       "Med 40   0.07066\n",
       "Hi 30    0.05816\n",
       "Lo 20    0.09720\n",
       "Qnt 2    0.07929\n",
       "Qnt 3    0.07048\n",
       "Qnt 4    0.06394\n",
       "Hi 20    0.05633\n",
       "Lo 10    0.10629\n",
       "Dec 2    0.09118\n",
       "Dec 3    0.08193\n",
       "Dec 4    0.07723\n",
       "Dec 5    0.07213\n",
       "Dec 6    0.06933\n",
       "Dec 7    0.06592\n",
       "Dec 8    0.06263\n",
       "Dec 9    0.05953\n",
       "Hi 10    0.05390\n",
       "dtype: float64"
      ]
     },
     "execution_count": 61,
     "metadata": {},
     "output_type": "execute_result"
    }
   ],
   "source": [
    "#((df - df.mean())**3).sum()/(df.std()**3)\n",
    "#(df - df.mean() )**3\n",
    "df.std()"
   ]
  },
  {
   "cell_type": "code",
   "execution_count": 67,
   "metadata": {},
   "outputs": [],
   "source": [
    "df = erk.read_edhec_hedgefundindices(data_loc='data/')"
   ]
  },
  {
   "cell_type": "code",
   "execution_count": 68,
   "metadata": {},
   "outputs": [
    {
     "data": {
      "text/html": [
       "<div>\n",
       "<style scoped>\n",
       "    .dataframe tbody tr th:only-of-type {\n",
       "        vertical-align: middle;\n",
       "    }\n",
       "\n",
       "    .dataframe tbody tr th {\n",
       "        vertical-align: top;\n",
       "    }\n",
       "\n",
       "    .dataframe thead th {\n",
       "        text-align: right;\n",
       "    }\n",
       "</style>\n",
       "<table border=\"1\" class=\"dataframe\">\n",
       "  <thead>\n",
       "    <tr style=\"text-align: right;\">\n",
       "      <th></th>\n",
       "      <th>Convertible Arbitrage</th>\n",
       "      <th>CTA Global</th>\n",
       "      <th>Distressed Securities</th>\n",
       "      <th>Emerging Markets</th>\n",
       "      <th>Equity Market Neutral</th>\n",
       "      <th>Event Driven</th>\n",
       "      <th>Fixed Income Arbitrage</th>\n",
       "      <th>Global Macro</th>\n",
       "      <th>Long/Short Equity</th>\n",
       "      <th>Merger Arbitrage</th>\n",
       "      <th>Relative Value</th>\n",
       "      <th>Short Selling</th>\n",
       "      <th>Funds Of Funds</th>\n",
       "    </tr>\n",
       "    <tr>\n",
       "      <th>date</th>\n",
       "      <th></th>\n",
       "      <th></th>\n",
       "      <th></th>\n",
       "      <th></th>\n",
       "      <th></th>\n",
       "      <th></th>\n",
       "      <th></th>\n",
       "      <th></th>\n",
       "      <th></th>\n",
       "      <th></th>\n",
       "      <th></th>\n",
       "      <th></th>\n",
       "      <th></th>\n",
       "    </tr>\n",
       "  </thead>\n",
       "  <tbody>\n",
       "    <tr>\n",
       "      <th>1997-01</th>\n",
       "      <td>0.01190</td>\n",
       "      <td>0.03930</td>\n",
       "      <td>0.01780</td>\n",
       "      <td>0.07910</td>\n",
       "      <td>0.01890</td>\n",
       "      <td>0.02130</td>\n",
       "      <td>0.01910</td>\n",
       "      <td>0.05730</td>\n",
       "      <td>0.02810</td>\n",
       "      <td>0.01500</td>\n",
       "      <td>0.01800</td>\n",
       "      <td>-0.01660</td>\n",
       "      <td>0.03170</td>\n",
       "    </tr>\n",
       "    <tr>\n",
       "      <th>1997-02</th>\n",
       "      <td>0.01230</td>\n",
       "      <td>0.02980</td>\n",
       "      <td>0.01220</td>\n",
       "      <td>0.05250</td>\n",
       "      <td>0.01010</td>\n",
       "      <td>0.00840</td>\n",
       "      <td>0.01220</td>\n",
       "      <td>0.01750</td>\n",
       "      <td>-0.00060</td>\n",
       "      <td>0.00340</td>\n",
       "      <td>0.01180</td>\n",
       "      <td>0.04260</td>\n",
       "      <td>0.01060</td>\n",
       "    </tr>\n",
       "    <tr>\n",
       "      <th>1997-03</th>\n",
       "      <td>0.00780</td>\n",
       "      <td>-0.00210</td>\n",
       "      <td>-0.00120</td>\n",
       "      <td>-0.01200</td>\n",
       "      <td>0.00160</td>\n",
       "      <td>-0.00230</td>\n",
       "      <td>0.01090</td>\n",
       "      <td>-0.01190</td>\n",
       "      <td>-0.00840</td>\n",
       "      <td>0.00600</td>\n",
       "      <td>0.00100</td>\n",
       "      <td>0.07780</td>\n",
       "      <td>-0.00770</td>\n",
       "    </tr>\n",
       "    <tr>\n",
       "      <th>1997-04</th>\n",
       "      <td>0.00860</td>\n",
       "      <td>-0.01700</td>\n",
       "      <td>0.00300</td>\n",
       "      <td>0.01190</td>\n",
       "      <td>0.01190</td>\n",
       "      <td>-0.00050</td>\n",
       "      <td>0.01300</td>\n",
       "      <td>0.01720</td>\n",
       "      <td>0.00840</td>\n",
       "      <td>-0.00010</td>\n",
       "      <td>0.01220</td>\n",
       "      <td>-0.01290</td>\n",
       "      <td>0.00090</td>\n",
       "    </tr>\n",
       "    <tr>\n",
       "      <th>1997-05</th>\n",
       "      <td>0.01560</td>\n",
       "      <td>-0.00150</td>\n",
       "      <td>0.02330</td>\n",
       "      <td>0.03150</td>\n",
       "      <td>0.01890</td>\n",
       "      <td>0.03460</td>\n",
       "      <td>0.01180</td>\n",
       "      <td>0.01080</td>\n",
       "      <td>0.03940</td>\n",
       "      <td>0.01970</td>\n",
       "      <td>0.01730</td>\n",
       "      <td>-0.07370</td>\n",
       "      <td>0.02750</td>\n",
       "    </tr>\n",
       "  </tbody>\n",
       "</table>\n",
       "</div>"
      ],
      "text/plain": [
       "         Convertible Arbitrage  CTA Global  Distressed Securities  \\\n",
       "date                                                                \n",
       "1997-01                0.01190     0.03930                0.01780   \n",
       "1997-02                0.01230     0.02980                0.01220   \n",
       "1997-03                0.00780    -0.00210               -0.00120   \n",
       "1997-04                0.00860    -0.01700                0.00300   \n",
       "1997-05                0.01560    -0.00150                0.02330   \n",
       "\n",
       "         Emerging Markets  Equity Market Neutral  Event Driven  \\\n",
       "date                                                             \n",
       "1997-01           0.07910                0.01890       0.02130   \n",
       "1997-02           0.05250                0.01010       0.00840   \n",
       "1997-03          -0.01200                0.00160      -0.00230   \n",
       "1997-04           0.01190                0.01190      -0.00050   \n",
       "1997-05           0.03150                0.01890       0.03460   \n",
       "\n",
       "         Fixed Income Arbitrage  Global Macro  Long/Short Equity  \\\n",
       "date                                                               \n",
       "1997-01                 0.01910       0.05730            0.02810   \n",
       "1997-02                 0.01220       0.01750           -0.00060   \n",
       "1997-03                 0.01090      -0.01190           -0.00840   \n",
       "1997-04                 0.01300       0.01720            0.00840   \n",
       "1997-05                 0.01180       0.01080            0.03940   \n",
       "\n",
       "         Merger Arbitrage  Relative Value  Short Selling  Funds Of Funds  \n",
       "date                                                                      \n",
       "1997-01           0.01500         0.01800       -0.01660         0.03170  \n",
       "1997-02           0.00340         0.01180        0.04260         0.01060  \n",
       "1997-03           0.00600         0.00100        0.07780        -0.00770  \n",
       "1997-04          -0.00010         0.01220       -0.01290         0.00090  \n",
       "1997-05           0.01970         0.01730       -0.07370         0.02750  "
      ]
     },
     "execution_count": 68,
     "metadata": {},
     "output_type": "execute_result"
    }
   ],
   "source": [
    "df.head()"
   ]
  },
  {
   "cell_type": "code",
   "execution_count": 79,
   "metadata": {},
   "outputs": [
    {
     "data": {
      "text/plain": [
       "-2.639592225108922"
      ]
     },
     "execution_count": 79,
     "metadata": {},
     "output_type": "execute_result"
    }
   ],
   "source": [
    "#df.columns\n",
    "erk.skewness(df['Convertible Arbitrage'])"
   ]
  },
  {
   "cell_type": "code",
   "execution_count": 82,
   "metadata": {},
   "outputs": [
    {
     "data": {
      "text/plain": [
       "CTA Global                2.95296\n",
       "Long/Short Equity         4.52389\n",
       "Global Macro              5.74168\n",
       "Short Selling             6.11777\n",
       "Funds Of Funds            7.07015\n",
       "Distressed Securities     7.88998\n",
       "Event Driven              8.03583\n",
       "Merger Arbitrage          8.73895\n",
       "Emerging Markets          9.25079\n",
       "Relative Value           12.12121\n",
       "Equity Market Neutral    17.21856\n",
       "Convertible Arbitrage    23.28083\n",
       "Fixed Income Arbitrage   29.84220\n",
       "dtype: float64"
      ]
     },
     "execution_count": 82,
     "metadata": {},
     "output_type": "execute_result"
    }
   ],
   "source": [
    "erk.kurtosis(df).sort_values()"
   ]
  },
  {
   "cell_type": "code",
   "execution_count": 102,
   "metadata": {},
   "outputs": [
    {
     "data": {
      "text/plain": [
       "<matplotlib.axes._subplots.AxesSubplot at 0x1a23864860>"
      ]
     },
     "execution_count": 102,
     "metadata": {},
     "output_type": "execute_result"
    },
    {
     "data": {
      "image/png": "[encoded data removed]",
      "text/plain": [
       "<Figure size 432x288 with 1 Axes>"
      ]
     },
     "metadata": {
      "needs_background": "light"
     },
     "output_type": "display_data"
    }
   ],
   "source": [
    "df['CTA Global'].plot.line()"
   ]
  },
  {
   "cell_type": "code",
   "execution_count": 90,
   "metadata": {},
   "outputs": [
    {
     "data": {
      "text/plain": [
       "[True, 0.0]"
      ]
     },
     "execution_count": 90,
     "metadata": {},
     "output_type": "execute_result"
    }
   ],
   "source": [
    "erk.is_normal(df)"
   ]
  },
  {
   "cell_type": "code",
   "execution_count": 101,
   "metadata": {},
   "outputs": [
    {
     "data": {
      "text/plain": [
       "Convertible Arbitrage                        [False, 0.0]\n",
       "CTA Global                     [True, 0.5099837302620382]\n",
       "Distressed Securities                        [False, 0.0]\n",
       "Emerging Markets                             [False, 0.0]\n",
       "Equity Market Neutral                        [False, 0.0]\n",
       "Event Driven                                 [False, 0.0]\n",
       "Fixed Income Arbitrage                       [False, 0.0]\n",
       "Global Macro                                 [False, 0.0]\n",
       "Long/Short Equity         [False, 1.0583442799916298e-07]\n",
       "Merger Arbitrage                             [False, 0.0]\n",
       "Relative Value                               [False, 0.0]\n",
       "Short Selling                                [False, 0.0]\n",
       "Funds Of Funds                               [False, 0.0]\n",
       "dtype: object"
      ]
     },
     "execution_count": 101,
     "metadata": {},
     "output_type": "execute_result"
    }
   ],
   "source": [
    "erk.jarque_bera_test(df, alpha=0.1)"
   ]
  },
  {
   "cell_type": "code",
   "execution_count": 104,
   "metadata": {},
   "outputs": [
    {
     "data": {
      "text/plain": [
       "Convertible Arbitrage    0.01954\n",
       "CTA Global               0.01244\n",
       "Distressed Securities    0.01519\n",
       "Emerging Markets         0.02804\n",
       "Equity Market Neutral    0.00957\n",
       "Event Driven             0.01543\n",
       "Fixed Income Arbitrage   0.01776\n",
       "Global Macro             0.00658\n",
       "Long/Short Equity        0.01405\n",
       "Merger Arbitrage         0.00887\n",
       "Relative Value           0.01224\n",
       "Short Selling            0.02728\n",
       "Funds Of Funds           0.01212\n",
       "dtype: float64"
      ]
     },
     "execution_count": 104,
     "metadata": {},
     "output_type": "execute_result"
    }
   ],
   "source": [
    "erk.semi_deviation(df)"
   ]
  },
  {
   "cell_type": "code",
   "execution_count": 105,
   "metadata": {},
   "outputs": [
    {
     "data": {
      "text/html": [
       "<div>\n",
       "<style scoped>\n",
       "    .dataframe tbody tr th:only-of-type {\n",
       "        vertical-align: middle;\n",
       "    }\n",
       "\n",
       "    .dataframe tbody tr th {\n",
       "        vertical-align: top;\n",
       "    }\n",
       "\n",
       "    .dataframe thead th {\n",
       "        text-align: right;\n",
       "    }\n",
       "</style>\n",
       "<table border=\"1\" class=\"dataframe\">\n",
       "  <thead>\n",
       "    <tr style=\"text-align: right;\">\n",
       "      <th></th>\n",
       "      <th>Convertible Arbitrage</th>\n",
       "      <th>CTA Global</th>\n",
       "      <th>Distressed Securities</th>\n",
       "      <th>Emerging Markets</th>\n",
       "      <th>Equity Market Neutral</th>\n",
       "      <th>Event Driven</th>\n",
       "      <th>Fixed Income Arbitrage</th>\n",
       "      <th>Global Macro</th>\n",
       "      <th>Long/Short Equity</th>\n",
       "      <th>Merger Arbitrage</th>\n",
       "      <th>Relative Value</th>\n",
       "      <th>Short Selling</th>\n",
       "      <th>Funds Of Funds</th>\n",
       "    </tr>\n",
       "    <tr>\n",
       "      <th>date</th>\n",
       "      <th></th>\n",
       "      <th></th>\n",
       "      <th></th>\n",
       "      <th></th>\n",
       "      <th></th>\n",
       "      <th></th>\n",
       "      <th></th>\n",
       "      <th></th>\n",
       "      <th></th>\n",
       "      <th></th>\n",
       "      <th></th>\n",
       "      <th></th>\n",
       "      <th></th>\n",
       "    </tr>\n",
       "  </thead>\n",
       "  <tbody>\n",
       "    <tr>\n",
       "      <th>1997-01</th>\n",
       "      <td>0.01190</td>\n",
       "      <td>0.03930</td>\n",
       "      <td>0.01780</td>\n",
       "      <td>0.07910</td>\n",
       "      <td>0.01890</td>\n",
       "      <td>0.02130</td>\n",
       "      <td>0.01910</td>\n",
       "      <td>0.05730</td>\n",
       "      <td>0.02810</td>\n",
       "      <td>0.01500</td>\n",
       "      <td>0.01800</td>\n",
       "      <td>-0.01660</td>\n",
       "      <td>0.03170</td>\n",
       "    </tr>\n",
       "    <tr>\n",
       "      <th>1997-02</th>\n",
       "      <td>0.01230</td>\n",
       "      <td>0.02980</td>\n",
       "      <td>0.01220</td>\n",
       "      <td>0.05250</td>\n",
       "      <td>0.01010</td>\n",
       "      <td>0.00840</td>\n",
       "      <td>0.01220</td>\n",
       "      <td>0.01750</td>\n",
       "      <td>-0.00060</td>\n",
       "      <td>0.00340</td>\n",
       "      <td>0.01180</td>\n",
       "      <td>0.04260</td>\n",
       "      <td>0.01060</td>\n",
       "    </tr>\n",
       "    <tr>\n",
       "      <th>1997-03</th>\n",
       "      <td>0.00780</td>\n",
       "      <td>-0.00210</td>\n",
       "      <td>-0.00120</td>\n",
       "      <td>-0.01200</td>\n",
       "      <td>0.00160</td>\n",
       "      <td>-0.00230</td>\n",
       "      <td>0.01090</td>\n",
       "      <td>-0.01190</td>\n",
       "      <td>-0.00840</td>\n",
       "      <td>0.00600</td>\n",
       "      <td>0.00100</td>\n",
       "      <td>0.07780</td>\n",
       "      <td>-0.00770</td>\n",
       "    </tr>\n",
       "    <tr>\n",
       "      <th>1997-04</th>\n",
       "      <td>0.00860</td>\n",
       "      <td>-0.01700</td>\n",
       "      <td>0.00300</td>\n",
       "      <td>0.01190</td>\n",
       "      <td>0.01190</td>\n",
       "      <td>-0.00050</td>\n",
       "      <td>0.01300</td>\n",
       "      <td>0.01720</td>\n",
       "      <td>0.00840</td>\n",
       "      <td>-0.00010</td>\n",
       "      <td>0.01220</td>\n",
       "      <td>-0.01290</td>\n",
       "      <td>0.00090</td>\n",
       "    </tr>\n",
       "    <tr>\n",
       "      <th>1997-05</th>\n",
       "      <td>0.01560</td>\n",
       "      <td>-0.00150</td>\n",
       "      <td>0.02330</td>\n",
       "      <td>0.03150</td>\n",
       "      <td>0.01890</td>\n",
       "      <td>0.03460</td>\n",
       "      <td>0.01180</td>\n",
       "      <td>0.01080</td>\n",
       "      <td>0.03940</td>\n",
       "      <td>0.01970</td>\n",
       "      <td>0.01730</td>\n",
       "      <td>-0.07370</td>\n",
       "      <td>0.02750</td>\n",
       "    </tr>\n",
       "  </tbody>\n",
       "</table>\n",
       "</div>"
      ],
      "text/plain": [
       "         Convertible Arbitrage  CTA Global  Distressed Securities  \\\n",
       "date                                                                \n",
       "1997-01                0.01190     0.03930                0.01780   \n",
       "1997-02                0.01230     0.02980                0.01220   \n",
       "1997-03                0.00780    -0.00210               -0.00120   \n",
       "1997-04                0.00860    -0.01700                0.00300   \n",
       "1997-05                0.01560    -0.00150                0.02330   \n",
       "\n",
       "         Emerging Markets  Equity Market Neutral  Event Driven  \\\n",
       "date                                                             \n",
       "1997-01           0.07910                0.01890       0.02130   \n",
       "1997-02           0.05250                0.01010       0.00840   \n",
       "1997-03          -0.01200                0.00160      -0.00230   \n",
       "1997-04           0.01190                0.01190      -0.00050   \n",
       "1997-05           0.03150                0.01890       0.03460   \n",
       "\n",
       "         Fixed Income Arbitrage  Global Macro  Long/Short Equity  \\\n",
       "date                                                               \n",
       "1997-01                 0.01910       0.05730            0.02810   \n",
       "1997-02                 0.01220       0.01750           -0.00060   \n",
       "1997-03                 0.01090      -0.01190           -0.00840   \n",
       "1997-04                 0.01300       0.01720            0.00840   \n",
       "1997-05                 0.01180       0.01080            0.03940   \n",
       "\n",
       "         Merger Arbitrage  Relative Value  Short Selling  Funds Of Funds  \n",
       "date                                                                      \n",
       "1997-01           0.01500         0.01800       -0.01660         0.03170  \n",
       "1997-02           0.00340         0.01180        0.04260         0.01060  \n",
       "1997-03           0.00600         0.00100        0.07780        -0.00770  \n",
       "1997-04          -0.00010         0.01220       -0.01290         0.00090  \n",
       "1997-05           0.01970         0.01730       -0.07370         0.02750  "
      ]
     },
     "execution_count": 105,
     "metadata": {},
     "output_type": "execute_result"
    }
   ],
   "source": [
    "df.head()"
   ]
  },
  {
   "cell_type": "code",
   "execution_count": 116,
   "metadata": {},
   "outputs": [
    {
     "data": {
      "text/plain": [
       "Convertible Arbitrage    0.12315\n",
       "CTA Global               0.05673\n",
       "Distressed Securities    0.08344\n",
       "Emerging Markets         0.19065\n",
       "Equity Market Neutral    0.05791\n",
       "Event Driven             0.08792\n",
       "Fixed Income Arbitrage   0.08653\n",
       "Global Macro             0.03128\n",
       "Long/Short Equity        0.06738\n",
       "Merger Arbitrage         0.05370\n",
       "Relative Value           0.06880\n",
       "Short Selling            0.13374\n",
       "Funds Of Funds           0.06179\n",
       "dtype: float64"
      ]
     },
     "execution_count": 116,
     "metadata": {},
     "output_type": "execute_result"
    }
   ],
   "source": [
    "erk.var_historic(df, level=0.01)"
   ]
  },
  {
   "cell_type": "code",
   "execution_count": 117,
   "metadata": {},
   "outputs": [
    {
     "data": {
      "text/plain": [
       "Convertible Arbitrage    0.10010\n",
       "CTA Global               0.04661\n",
       "Distressed Securities    0.05751\n",
       "Emerging Markets         0.12798\n",
       "Equity Market Neutral    0.04025\n",
       "Event Driven             0.05704\n",
       "Fixed Income Arbitrage   0.06078\n",
       "Global Macro             0.02224\n",
       "Long/Short Equity        0.05161\n",
       "Merger Arbitrage         0.03288\n",
       "Relative Value           0.04640\n",
       "Short Selling            0.10981\n",
       "Funds Of Funds           0.05003\n",
       "dtype: float64"
      ]
     },
     "execution_count": 117,
     "metadata": {},
     "output_type": "execute_result"
    }
   ],
   "source": [
    "erk.var_gaussian(df, level=0.01, modified=True)"
   ]
  },
  {
   "cell_type": "code",
   "execution_count": 118,
   "metadata": {},
   "outputs": [
    {
     "data": {
      "text/plain": [
       "Convertible Arbitrage    0.03296\n",
       "CTA Global               0.05011\n",
       "Distressed Securities    0.03262\n",
       "Emerging Markets         0.06930\n",
       "Equity Market Neutral    0.01438\n",
       "Event Driven             0.03253\n",
       "Fixed Income Arbitrage   0.02243\n",
       "Global Macro             0.02878\n",
       "Long/Short Equity        0.03996\n",
       "Merger Arbitrage         0.01698\n",
       "Relative Value           0.02087\n",
       "Short Selling            0.11256\n",
       "Funds Of Funds           0.03188\n",
       "dtype: float64"
      ]
     },
     "execution_count": 118,
     "metadata": {},
     "output_type": "execute_result"
    }
   ],
   "source": [
    "erk.var_gaussian(df, level=0.01)"
   ]
  },
  {
   "cell_type": "code",
   "execution_count": 119,
   "metadata": {},
   "outputs": [
    {
     "data": {
      "text/plain": [
       "Convertible Arbitrage    0.12370\n",
       "CTA Global               0.05680\n",
       "Distressed Securities    0.08360\n",
       "Emerging Markets         0.19220\n",
       "Equity Market Neutral    0.05870\n",
       "Event Driven             0.08860\n",
       "Fixed Income Arbitrage   0.08670\n",
       "Global Macro             0.03130\n",
       "Long/Short Equity        0.06750\n",
       "Merger Arbitrage         0.05440\n",
       "Relative Value           0.06920\n",
       "Short Selling            0.13400\n",
       "Funds Of Funds           0.06180\n",
       "dtype: float64"
      ]
     },
     "execution_count": 119,
     "metadata": {},
     "output_type": "execute_result"
    }
   ],
   "source": [
    "erk.cvar_historic(df, level=0.01)"
   ]
  },
  {
   "cell_type": "code",
   "execution_count": null,
   "metadata": {},
   "outputs": [],
   "source": []
  }
 ],
 "metadata": {
  "kernelspec": {
   "display_name": "Python 3",
   "language": "python",
   "name": "python3"
  },
  "language_info": {
   "codemirror_mode": {
    "name": "ipython",
    "version": 3
   },
   "file_extension": ".py",
   "mimetype": "text/x-python",
   "name": "python",
   "nbconvert_exporter": "python",
   "pygments_lexer": "ipython3",
   "version": "3.7.0"
  }
 },
 "nbformat": 4,
 "nbformat_minor": 2
}
