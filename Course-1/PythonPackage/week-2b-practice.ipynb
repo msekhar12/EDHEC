{
 "cells": [
  {
   "cell_type": "code",
   "execution_count": 2,
   "metadata": {},
   "outputs": [
    {
     "name": "stdout",
     "output_type": "stream",
     "text": [
      "The autoreload extension is already loaded. To reload it, use:\n",
      "  %reload_ext autoreload\n"
     ]
    }
   ],
   "source": [
    "import pandas as pd\n",
    "import numpy as np\n",
    "%matplotlib inline\n",
    "%load_ext autoreload\n",
    "%autoreload 2\n",
    "import src.edhec_risk_kit as erk"
   ]
  },
  {
   "cell_type": "code",
   "execution_count": 3,
   "metadata": {},
   "outputs": [],
   "source": [
    "ind = erk.read_ind_returns(data_loc='./data')"
   ]
  },
  {
   "cell_type": "code",
   "execution_count": 4,
   "metadata": {},
   "outputs": [
    {
     "data": {
      "text/html": [
       "<div>\n",
       "<style scoped>\n",
       "    .dataframe tbody tr th:only-of-type {\n",
       "        vertical-align: middle;\n",
       "    }\n",
       "\n",
       "    .dataframe tbody tr th {\n",
       "        vertical-align: top;\n",
       "    }\n",
       "\n",
       "    .dataframe thead th {\n",
       "        text-align: right;\n",
       "    }\n",
       "</style>\n",
       "<table border=\"1\" class=\"dataframe\">\n",
       "  <thead>\n",
       "    <tr style=\"text-align: right;\">\n",
       "      <th></th>\n",
       "      <th>Food</th>\n",
       "      <th>Beer</th>\n",
       "      <th>Smoke</th>\n",
       "      <th>Games</th>\n",
       "      <th>Books</th>\n",
       "      <th>Hshld</th>\n",
       "      <th>Clths</th>\n",
       "      <th>Hlth</th>\n",
       "      <th>Chems</th>\n",
       "      <th>Txtls</th>\n",
       "      <th>...</th>\n",
       "      <th>Telcm</th>\n",
       "      <th>Servs</th>\n",
       "      <th>BusEq</th>\n",
       "      <th>Paper</th>\n",
       "      <th>Trans</th>\n",
       "      <th>Whlsl</th>\n",
       "      <th>Rtail</th>\n",
       "      <th>Meals</th>\n",
       "      <th>Fin</th>\n",
       "      <th>Other</th>\n",
       "    </tr>\n",
       "  </thead>\n",
       "  <tbody>\n",
       "    <tr>\n",
       "      <th>1926-07</th>\n",
       "      <td>0.0056</td>\n",
       "      <td>-0.0519</td>\n",
       "      <td>0.0129</td>\n",
       "      <td>0.0293</td>\n",
       "      <td>0.1097</td>\n",
       "      <td>-0.0048</td>\n",
       "      <td>0.0808</td>\n",
       "      <td>0.0177</td>\n",
       "      <td>0.0814</td>\n",
       "      <td>0.0039</td>\n",
       "      <td>...</td>\n",
       "      <td>0.0083</td>\n",
       "      <td>0.0922</td>\n",
       "      <td>0.0206</td>\n",
       "      <td>0.0770</td>\n",
       "      <td>0.0193</td>\n",
       "      <td>-0.2379</td>\n",
       "      <td>0.0007</td>\n",
       "      <td>0.0187</td>\n",
       "      <td>0.0037</td>\n",
       "      <td>0.0520</td>\n",
       "    </tr>\n",
       "    <tr>\n",
       "      <th>1926-08</th>\n",
       "      <td>0.0259</td>\n",
       "      <td>0.2703</td>\n",
       "      <td>0.0650</td>\n",
       "      <td>0.0055</td>\n",
       "      <td>0.1001</td>\n",
       "      <td>-0.0358</td>\n",
       "      <td>-0.0251</td>\n",
       "      <td>0.0425</td>\n",
       "      <td>0.0550</td>\n",
       "      <td>0.0814</td>\n",
       "      <td>...</td>\n",
       "      <td>0.0217</td>\n",
       "      <td>0.0202</td>\n",
       "      <td>0.0439</td>\n",
       "      <td>-0.0238</td>\n",
       "      <td>0.0488</td>\n",
       "      <td>0.0539</td>\n",
       "      <td>-0.0075</td>\n",
       "      <td>-0.0013</td>\n",
       "      <td>0.0446</td>\n",
       "      <td>0.0676</td>\n",
       "    </tr>\n",
       "    <tr>\n",
       "      <th>1926-09</th>\n",
       "      <td>0.0116</td>\n",
       "      <td>0.0402</td>\n",
       "      <td>0.0126</td>\n",
       "      <td>0.0658</td>\n",
       "      <td>-0.0099</td>\n",
       "      <td>0.0073</td>\n",
       "      <td>-0.0051</td>\n",
       "      <td>0.0069</td>\n",
       "      <td>0.0533</td>\n",
       "      <td>0.0231</td>\n",
       "      <td>...</td>\n",
       "      <td>0.0241</td>\n",
       "      <td>0.0225</td>\n",
       "      <td>0.0019</td>\n",
       "      <td>-0.0554</td>\n",
       "      <td>0.0005</td>\n",
       "      <td>-0.0787</td>\n",
       "      <td>0.0025</td>\n",
       "      <td>-0.0056</td>\n",
       "      <td>-0.0123</td>\n",
       "      <td>-0.0386</td>\n",
       "    </tr>\n",
       "    <tr>\n",
       "      <th>1926-10</th>\n",
       "      <td>-0.0306</td>\n",
       "      <td>-0.0331</td>\n",
       "      <td>0.0106</td>\n",
       "      <td>-0.0476</td>\n",
       "      <td>0.0947</td>\n",
       "      <td>-0.0468</td>\n",
       "      <td>0.0012</td>\n",
       "      <td>-0.0057</td>\n",
       "      <td>-0.0476</td>\n",
       "      <td>0.0100</td>\n",
       "      <td>...</td>\n",
       "      <td>-0.0011</td>\n",
       "      <td>-0.0200</td>\n",
       "      <td>-0.0109</td>\n",
       "      <td>-0.0508</td>\n",
       "      <td>-0.0264</td>\n",
       "      <td>-0.1538</td>\n",
       "      <td>-0.0220</td>\n",
       "      <td>-0.0411</td>\n",
       "      <td>-0.0516</td>\n",
       "      <td>-0.0849</td>\n",
       "    </tr>\n",
       "    <tr>\n",
       "      <th>1926-11</th>\n",
       "      <td>0.0635</td>\n",
       "      <td>0.0729</td>\n",
       "      <td>0.0455</td>\n",
       "      <td>0.0166</td>\n",
       "      <td>-0.0580</td>\n",
       "      <td>-0.0054</td>\n",
       "      <td>0.0187</td>\n",
       "      <td>0.0542</td>\n",
       "      <td>0.0520</td>\n",
       "      <td>0.0311</td>\n",
       "      <td>...</td>\n",
       "      <td>0.0163</td>\n",
       "      <td>0.0377</td>\n",
       "      <td>0.0364</td>\n",
       "      <td>0.0384</td>\n",
       "      <td>0.0160</td>\n",
       "      <td>0.0467</td>\n",
       "      <td>0.0652</td>\n",
       "      <td>0.0433</td>\n",
       "      <td>0.0224</td>\n",
       "      <td>0.0400</td>\n",
       "    </tr>\n",
       "  </tbody>\n",
       "</table>\n",
       "<p>5 rows × 30 columns</p>\n",
       "</div>"
      ],
      "text/plain": [
       "           Food    Beer   Smoke   Games   Books   Hshld   Clths    Hlth  \\\n",
       "1926-07  0.0056 -0.0519  0.0129  0.0293  0.1097 -0.0048  0.0808  0.0177   \n",
       "1926-08  0.0259  0.2703  0.0650  0.0055  0.1001 -0.0358 -0.0251  0.0425   \n",
       "1926-09  0.0116  0.0402  0.0126  0.0658 -0.0099  0.0073 -0.0051  0.0069   \n",
       "1926-10 -0.0306 -0.0331  0.0106 -0.0476  0.0947 -0.0468  0.0012 -0.0057   \n",
       "1926-11  0.0635  0.0729  0.0455  0.0166 -0.0580 -0.0054  0.0187  0.0542   \n",
       "\n",
       "          Chems   Txtls   ...     Telcm   Servs   BusEq   Paper   Trans  \\\n",
       "1926-07  0.0814  0.0039   ...    0.0083  0.0922  0.0206  0.0770  0.0193   \n",
       "1926-08  0.0550  0.0814   ...    0.0217  0.0202  0.0439 -0.0238  0.0488   \n",
       "1926-09  0.0533  0.0231   ...    0.0241  0.0225  0.0019 -0.0554  0.0005   \n",
       "1926-10 -0.0476  0.0100   ...   -0.0011 -0.0200 -0.0109 -0.0508 -0.0264   \n",
       "1926-11  0.0520  0.0311   ...    0.0163  0.0377  0.0364  0.0384  0.0160   \n",
       "\n",
       "          Whlsl   Rtail   Meals     Fin   Other  \n",
       "1926-07 -0.2379  0.0007  0.0187  0.0037  0.0520  \n",
       "1926-08  0.0539 -0.0075 -0.0013  0.0446  0.0676  \n",
       "1926-09 -0.0787  0.0025 -0.0056 -0.0123 -0.0386  \n",
       "1926-10 -0.1538 -0.0220 -0.0411 -0.0516 -0.0849  \n",
       "1926-11  0.0467  0.0652  0.0433  0.0224  0.0400  \n",
       "\n",
       "[5 rows x 30 columns]"
      ]
     },
     "execution_count": 4,
     "metadata": {},
     "output_type": "execute_result"
    }
   ],
   "source": [
    "ind.head()"
   ]
  },
  {
   "cell_type": "code",
   "execution_count": 7,
   "metadata": {},
   "outputs": [],
   "source": [
    "er = erk.annualized_returns(ind[\"1996\":\"2000\"])\n",
    "cov = ind[\"1996\":'2000'].cov()"
   ]
  },
  {
   "cell_type": "code",
   "execution_count": 9,
   "metadata": {},
   "outputs": [],
   "source": [
    "def portfolio_returns(weights, returns):\n",
    "    '''\n",
    "    Takes a weights vector and expected returns vector and returns expected returns\n",
    "    Formula transpose(W)Xreturns\n",
    "    '''    \n",
    "    return weights.T @ returns"
   ]
  },
  {
   "cell_type": "code",
   "execution_count": 11,
   "metadata": {},
   "outputs": [],
   "source": [
    "def portfolio_volatility(weights, cov):\n",
    "    '''\n",
    "    Takes a weight vector and covariance as inputs and returns std. dev of portfolio\n",
    "    sqrt(transpose(w) X cov X w)\n",
    "    '''\n",
    "    return (weights.T @ cov @ weights)**0.5"
   ]
  },
  {
   "cell_type": "code",
   "execution_count": 12,
   "metadata": {},
   "outputs": [
    {
     "data": {
      "text/plain": [
       "Food     0.116799\n",
       "Beer     0.141126\n",
       "Smoke    0.107830\n",
       "Coal     0.414689\n",
       "dtype: float64"
      ]
     },
     "execution_count": 12,
     "metadata": {},
     "output_type": "execute_result"
    }
   ],
   "source": [
    "l = [\"Food\", \"Beer\", \"Smoke\", \"Coal\"]\n",
    "er[l]"
   ]
  },
  {
   "cell_type": "code",
   "execution_count": 13,
   "metadata": {},
   "outputs": [
    {
     "data": {
      "text/html": [
       "<div>\n",
       "<style scoped>\n",
       "    .dataframe tbody tr th:only-of-type {\n",
       "        vertical-align: middle;\n",
       "    }\n",
       "\n",
       "    .dataframe tbody tr th {\n",
       "        vertical-align: top;\n",
       "    }\n",
       "\n",
       "    .dataframe thead th {\n",
       "        text-align: right;\n",
       "    }\n",
       "</style>\n",
       "<table border=\"1\" class=\"dataframe\">\n",
       "  <thead>\n",
       "    <tr style=\"text-align: right;\">\n",
       "      <th></th>\n",
       "      <th>Food</th>\n",
       "      <th>Beer</th>\n",
       "      <th>Smoke</th>\n",
       "      <th>Coal</th>\n",
       "    </tr>\n",
       "  </thead>\n",
       "  <tbody>\n",
       "    <tr>\n",
       "      <th>Food</th>\n",
       "      <td>0.002609</td>\n",
       "      <td>0.002379</td>\n",
       "      <td>0.002061</td>\n",
       "      <td>0.000027</td>\n",
       "    </tr>\n",
       "    <tr>\n",
       "      <th>Beer</th>\n",
       "      <td>0.002379</td>\n",
       "      <td>0.005264</td>\n",
       "      <td>0.001359</td>\n",
       "      <td>0.001728</td>\n",
       "    </tr>\n",
       "    <tr>\n",
       "      <th>Smoke</th>\n",
       "      <td>0.002061</td>\n",
       "      <td>0.001359</td>\n",
       "      <td>0.008349</td>\n",
       "      <td>-0.000733</td>\n",
       "    </tr>\n",
       "    <tr>\n",
       "      <th>Coal</th>\n",
       "      <td>0.000027</td>\n",
       "      <td>0.001728</td>\n",
       "      <td>-0.000733</td>\n",
       "      <td>0.018641</td>\n",
       "    </tr>\n",
       "  </tbody>\n",
       "</table>\n",
       "</div>"
      ],
      "text/plain": [
       "           Food      Beer     Smoke      Coal\n",
       "Food   0.002609  0.002379  0.002061  0.000027\n",
       "Beer   0.002379  0.005264  0.001359  0.001728\n",
       "Smoke  0.002061  0.001359  0.008349 -0.000733\n",
       "Coal   0.000027  0.001728 -0.000733  0.018641"
      ]
     },
     "execution_count": 13,
     "metadata": {},
     "output_type": "execute_result"
    }
   ],
   "source": [
    "cov.loc[l,l]"
   ]
  },
  {
   "cell_type": "code",
   "execution_count": 14,
   "metadata": {},
   "outputs": [],
   "source": [
    "#assign equal weights\n",
    "weights = np.repeat(1/4,4)"
   ]
  },
  {
   "cell_type": "code",
   "execution_count": 15,
   "metadata": {},
   "outputs": [
    {
     "data": {
      "text/plain": [
       "0.19511097196038413"
      ]
     },
     "execution_count": 15,
     "metadata": {},
     "output_type": "execute_result"
    }
   ],
   "source": [
    "portfolio_returns(weights, er[l])"
   ]
  },
  {
   "cell_type": "code",
   "execution_count": 16,
   "metadata": {},
   "outputs": [
    {
     "data": {
      "text/plain": [
       "0.055059195776437045"
      ]
     },
     "execution_count": 16,
     "metadata": {},
     "output_type": "execute_result"
    }
   ],
   "source": [
    "portfolio_volatility(weights, cov.loc[l,l])"
   ]
  },
  {
   "cell_type": "code",
   "execution_count": 17,
   "metadata": {},
   "outputs": [
    {
     "data": {
      "text/plain": [
       "0.19511097196038413"
      ]
     },
     "execution_count": 17,
     "metadata": {},
     "output_type": "execute_result"
    }
   ],
   "source": [
    "erk.portfolio_returns(weights, er[l])"
   ]
  },
  {
   "cell_type": "code",
   "execution_count": 18,
   "metadata": {},
   "outputs": [
    {
     "data": {
      "text/plain": [
       "0.055059195776437045"
      ]
     },
     "execution_count": 18,
     "metadata": {},
     "output_type": "execute_result"
    }
   ],
   "source": [
    "erk.portfolio_volatility(weights, cov.loc[l,l])"
   ]
  },
  {
   "cell_type": "markdown",
   "metadata": {},
   "source": [
    "## Lets plot only a 2 asset frontier"
   ]
  },
  {
   "cell_type": "code",
   "execution_count": 20,
   "metadata": {},
   "outputs": [],
   "source": [
    "l = [\"Games\", \"Fin\"]\n",
    "n_points = 20\n",
    "\n",
    "weights = [np.array([w, 1-w]) for w in np.linspace(0,1,n_points)]"
   ]
  },
  {
   "cell_type": "code",
   "execution_count": 21,
   "metadata": {},
   "outputs": [
    {
     "data": {
      "text/plain": [
       "[array([0., 1.]),\n",
       " array([0.05263158, 0.94736842]),\n",
       " array([0.10526316, 0.89473684]),\n",
       " array([0.15789474, 0.84210526]),\n",
       " array([0.21052632, 0.78947368]),\n",
       " array([0.26315789, 0.73684211]),\n",
       " array([0.31578947, 0.68421053]),\n",
       " array([0.36842105, 0.63157895]),\n",
       " array([0.42105263, 0.57894737]),\n",
       " array([0.47368421, 0.52631579]),\n",
       " array([0.52631579, 0.47368421]),\n",
       " array([0.57894737, 0.42105263]),\n",
       " array([0.63157895, 0.36842105]),\n",
       " array([0.68421053, 0.31578947]),\n",
       " array([0.73684211, 0.26315789]),\n",
       " array([0.78947368, 0.21052632]),\n",
       " array([0.84210526, 0.15789474]),\n",
       " array([0.89473684, 0.10526316]),\n",
       " array([0.94736842, 0.05263158]),\n",
       " array([1., 0.])]"
      ]
     },
     "execution_count": 21,
     "metadata": {},
     "output_type": "execute_result"
    }
   ],
   "source": [
    "weights"
   ]
  },
  {
   "cell_type": "code",
   "execution_count": 24,
   "metadata": {},
   "outputs": [],
   "source": [
    "rets = [erk.portfolio_returns(weights=w, returns=er[l]) for w in weights]\n",
    "vol = [erk.portfolio_volatility(cov=cov.loc[l,l], weights=w) for w in weights]"
   ]
  },
  {
   "cell_type": "code",
   "execution_count": 33,
   "metadata": {},
   "outputs": [
    {
     "data": {
      "text/plain": [
       "<matplotlib.axes._subplots.AxesSubplot at 0x1a25c90630>"
      ]
     },
     "execution_count": 33,
     "metadata": {},
     "output_type": "execute_result"
    },
    {
     "data": {
      "image/png": "[encoded data removed]",
      "text/plain": [
       "<Figure size 432x288 with 1 Axes>"
      ]
     },
     "metadata": {
      "needs_background": "light"
     },
     "output_type": "display_data"
    }
   ],
   "source": [
    "df = pd.DataFrame({\"Returns\": rets,\n",
    "             \"Volatility\": vol})\n",
    "df.plot.line(x=\"Volatility\", y=\"Returns\", style=\".-\")"
   ]
  },
  {
   "cell_type": "code",
   "execution_count": 37,
   "metadata": {},
   "outputs": [],
   "source": [
    "def plot_ef2(n_points, er, cov, style=\".-\"):\n",
    "    '''\n",
    "    Plots efficient frontier for 2 assets\n",
    "    Inputs:\n",
    "        n_points: Number of different pairs of weights to try\n",
    "        er: expected return vector (Series)\n",
    "        cov: Pandas DataFrame containing the covariance of the assets\n",
    "        style: For plotting\n",
    "    '''\n",
    "    \n",
    "    # Generate the n_points of pairs of weights\n",
    "    # Each pair must sum to 1\n",
    "    weights = [np.array([w, 1-w]) for w in np.linspace(0,1,n_points)]\n",
    "    \n",
    "    # Get the portfolio expected return for each pair of weights\n",
    "    rets = [erk.portfolio_returns(returns=er, weights=w) for w in weights]\n",
    "    \n",
    "    # Get the portfolio volatility for each pair of weights\n",
    "    vol = [erk.portfolio_volatility(cov=cov, weights=w) for w in weights]\n",
    "    \n",
    "    df = pd.DataFrame({\"Returns\": rets,\n",
    "                      \"Volatility\": vol})\n",
    "    \n",
    "    df.plot.line(x = \"Volatility\", y = \"Returns\", style=style)"
   ]
  },
  {
   "cell_type": "code",
   "execution_count": 38,
   "metadata": {},
   "outputs": [
    {
     "data": {
      "image/png": "[encoded data removed]",
      "text/plain": [
       "<Figure size 432x288 with 1 Axes>"
      ]
     },
     "metadata": {
      "needs_background": "light"
     },
     "output_type": "display_data"
    }
   ],
   "source": [
    "plot_ef2(30, er[l], cov.loc[l,l], style=\".-\")"
   ]
  },
  {
   "cell_type": "code",
   "execution_count": 40,
   "metadata": {},
   "outputs": [
    {
     "data": {
      "text/plain": [
       "<matplotlib.axes._subplots.AxesSubplot at 0x1a25c9d9b0>"
      ]
     },
     "execution_count": 40,
     "metadata": {},
     "output_type": "execute_result"
    },
    {
     "data": {
      "image/png": "[encoded data removed]",
      "text/plain": [
       "<Figure size 432x288 with 1 Axes>"
      ]
     },
     "metadata": {
      "needs_background": "light"
     },
     "output_type": "display_data"
    }
   ],
   "source": [
    "erk.plot_ef2(30, er[l], cov.loc[l,l], style=\".-\")"
   ]
  },
  {
   "cell_type": "markdown",
   "metadata": {},
   "source": [
    "## N-Asset efficient frontier"
   ]
  },
  {
   "cell_type": "code",
   "execution_count": 41,
   "metadata": {},
   "outputs": [
    {
     "name": "stdout",
     "output_type": "stream",
     "text": [
      "The autoreload extension is already loaded. To reload it, use:\n",
      "  %reload_ext autoreload\n"
     ]
    }
   ],
   "source": [
    "import pandas as pd\n",
    "import numpy as np\n",
    "%matplotlib inline\n",
    "%load_ext autoreload\n",
    "%autoreload 2\n",
    "import src.edhec_risk_kit as erk"
   ]
  },
  {
   "cell_type": "code",
   "execution_count": 42,
   "metadata": {},
   "outputs": [],
   "source": [
    "from scipy.optimize import minimize\n"
   ]
  },
  {
   "cell_type": "code",
   "execution_count": 60,
   "metadata": {},
   "outputs": [],
   "source": [
    "# Minimize volatility function\n",
    "def minimize_volatility(target_return, er, cov):\n",
    "    '''\n",
    "    For a target_return, get the weights that have the minimum volatility\n",
    "    Inputs:\n",
    "        target_return: Floating point number representing the desired target retrun\n",
    "        er: Expected returns of all assets. A pandas Series\n",
    "        cov: A pandas data frame representing the covariance matrix of the assets\n",
    "    '''\n",
    "    \n",
    "    # Get the number of assets we have:\n",
    "    n = er.shape[0]\n",
    "    \n",
    "    # For the optimizer to work, we need to give it \n",
    "    # an objective function (which needs to be optimized)\n",
    "    # and a set of constraints.\n",
    "    # We need to provide an initial guess of weights.\n",
    "    # Some people put all the money in one asset as the initial \n",
    "    # guess. But we will put equal weights for all the assets\n",
    "    # as an initial guess.\n",
    "    \n",
    "    init_guess = np.repeat(1/n, n)\n",
    "    \n",
    "    # Let us provide the constraints\n",
    "    \n",
    "    # Constraint-1: Provide bounds for weights\n",
    "    # -------------\n",
    "    # Each weight must be confined to the interval: [0,1]\n",
    "    # If the weight is negative, then it is equivalent to \n",
    "    # going short.\n",
    "    # If the weight is beyond 1, then it is equivalent to \n",
    "    # leverage.\n",
    "    # Hence the weight must be within the interval: [0,1]    \n",
    "    # You have to provide a sequence of bounds for every weight.    \n",
    "    # Note: In the below statement, the extra comma(,) is necessary,\n",
    "    # as if we just include ((0,1)), then the outer parenthesis \n",
    "    # will be treated as normal parenthesis in a mathematical expression\n",
    "    # and hence ((0,1)) is equivalent to (0,1)\n",
    "    # ((0,1),) will be equal to a tuple with one element (0,1)\n",
    "    \n",
    "    bounds = ((0.0, 1.0),) * n\n",
    "    \n",
    "    # Constraint-2: \n",
    "    # -------------\n",
    "    # The weights when matrix multiplied with expected returns must \n",
    "    # give us desired returns.\n",
    "    # \n",
    "    # That is transpose(weights) X Expected_Returns = Desired_Return\n",
    "    # Here the weights are the ones which are found by the optimizer,\n",
    "    # and those determined weights must satisfy this constraint\n",
    "    # The desired weight is nothing but target_return parameter\n",
    "    # This constraint is an equality constraint. \n",
    "    # The minimize() function of scipy.optimize works as follows:\n",
    "    #   For each set of weights the optimizer generates, it will \n",
    "    #   check whether this constraint function returns 0 or not\n",
    "    #   If 0 is returned then the constraint is said to be satisfied,\n",
    "    #   else it is dissatisfied.\n",
    "    #   Therefore write a function that returns the following:\n",
    "    #   target_return - Weights.T @ er\n",
    "    \n",
    "    # In the below statement, 'args' will take all the arguments \n",
    "    # that are needed for the 'fun', except the first parameter \n",
    "    # (weights in this example). The first parameter is the one \n",
    "    # that we optimize\n",
    "    return_is_target = {\n",
    "        'type': 'eq',\n",
    "        'args': (er,), \n",
    "        'fun' : lambda weights, er: target_return - erk.portfolio_return(weights, er)\n",
    "    }\n",
    "    \n",
    "    # Constraint-3:\n",
    "    # -------------\n",
    "    # Sum of all weights must sum to 1\n",
    "    # Similar to constraint-2, the function must return 0\n",
    "    # when the constraint is satisfied.\n",
    "    \n",
    "    weights_sum_to_1 = {\n",
    "        'type': 'eq',\n",
    "        'fun': lambda weights: np.sum(weights) - 1\n",
    "    }\n",
    "    \n",
    "    # We defined 3 constraints:\n",
    "    # Constraint-1: For bounds on weights\n",
    "    # Constraint-2: Calculated return using the \n",
    "    #               weights is the target return\n",
    "    # Constraint-3: Weights sum to 1\n",
    "    \n",
    "    # Now we are ready to call the optimizer\n",
    "    # We already imported the optimizer as \n",
    "    # from scipy.optimize import minimize\n",
    "    \n",
    "    # The minimize() function will take the objective function\n",
    "    # which is nothing but the portfolio volatility\n",
    "    # We already written a function portfolio_volatility(weights, cov)\n",
    "    # The weights are the ones the function will optimize.\n",
    "    # The initial weights are assigned to the init_weights \n",
    "    # The args (except the weights arg, which must be the first argument of \n",
    "    # portfolio_volatility) will be supplied using the 'args' option\n",
    "    # 'args' = (cov)\n",
    "    # We will use 'SLSQP' as the quadratic programming optimizer\n",
    "    # method = 'SLSQP'\n",
    "    # You need to also supply the constraints and bounds we created.\n",
    "    # The minimize() function will produce a lot of informational \n",
    "    # messages. So supress those messages using disp\n",
    "    \n",
    "    results = minimize(erk.portfolio_volatility,\n",
    "                      init_guess,\n",
    "                      args=(cov),\n",
    "                      method='SLSQP',\n",
    "                      options={'disp': False},\n",
    "                      constraints=(return_is_target,\n",
    "                      weights_sum_to_1),\n",
    "                      bounds=bounds)\n",
    "    \n",
    "    #The optimized weigts are present in results.x\n",
    "    return results.x"
   ]
  },
  {
   "cell_type": "code",
   "execution_count": 61,
   "metadata": {},
   "outputs": [
    {
     "data": {
      "text/plain": [
       "array([0.47287631, 0.52712369])"
      ]
     },
     "execution_count": 61,
     "metadata": {},
     "output_type": "execute_result"
    }
   ],
   "source": [
    "l = [\"Games\", \"Fin\"]\n",
    "\n",
    "w15 = minimize_volatility(0.15, er[l], cov.loc[l,l])\n",
    "w15"
   ]
  },
  {
   "cell_type": "code",
   "execution_count": 62,
   "metadata": {},
   "outputs": [
    {
     "data": {
      "text/plain": [
       "0.056163669406706564"
      ]
     },
     "execution_count": 62,
     "metadata": {},
     "output_type": "execute_result"
    }
   ],
   "source": [
    "vol15 = erk.portfolio_volatility(w15, cov.loc[l,l])\n",
    "vol15"
   ]
  },
  {
   "cell_type": "code",
   "execution_count": 64,
   "metadata": {},
   "outputs": [
    {
     "data": {
      "text/plain": [
       "array([0.47287631, 0.52712369])"
      ]
     },
     "execution_count": 64,
     "metadata": {},
     "output_type": "execute_result"
    }
   ],
   "source": [
    "l = [\"Games\", \"Fin\"]\n",
    "\n",
    "w15 = erk.minimize_volatility(0.15, er[l], cov.loc[l,l])\n",
    "w15"
   ]
  },
  {
   "cell_type": "code",
   "execution_count": 65,
   "metadata": {},
   "outputs": [],
   "source": [
    "def optimimal_weights(n_points, er, cov):\n",
    "    '''\n",
    "    Generated a tuple of optimal weights for each desired expected return\n",
    "    Input:\n",
    "        n_points: Number of desired returns in the range of [min(er), max(er)]\n",
    "        er: A numpy array of expected returns\n",
    "        cov: A pandas data frame consisting the covariance matrix of the asset returns\n",
    "    '''\n",
    "    \n",
    "    target_returns = np.linspace(er.min(), er.max(), n_points)\n",
    "    \n",
    "    weights = [minimize_volatility(r, er, cov) for r in target_returns]\n",
    "    \n",
    "    return weights"
   ]
  },
  {
   "cell_type": "code",
   "execution_count": 71,
   "metadata": {},
   "outputs": [
    {
     "data": {
      "text/plain": [
       "<matplotlib.axes._subplots.AxesSubplot at 0x1a2629d668>"
      ]
     },
     "execution_count": 71,
     "metadata": {},
     "output_type": "execute_result"
    },
    {
     "data": {
      "image/png": "[encoded data removed]",
      "text/plain": [
       "<Figure size 432x288 with 1 Axes>"
      ]
     },
     "metadata": {
      "needs_background": "light"
     },
     "output_type": "display_data"
    }
   ],
   "source": [
    "erk.plot_ef(20, er, cov, style='.-')"
   ]
  },
  {
   "cell_type": "code",
   "execution_count": null,
   "metadata": {},
   "outputs": [],
   "source": []
  }
 ],
 "metadata": {
  "kernelspec": {
   "display_name": "Python 3",
   "language": "python",
   "name": "python3"
  },
  "language_info": {
   "codemirror_mode": {
    "name": "ipython",
    "version": 3
   },
   "file_extension": ".py",
   "mimetype": "text/x-python",
   "name": "python",
   "nbconvert_exporter": "python",
   "pygments_lexer": "ipython3",
   "version": "3.7.0"
  }
 },
 "nbformat": 4,
 "nbformat_minor": 2
}
